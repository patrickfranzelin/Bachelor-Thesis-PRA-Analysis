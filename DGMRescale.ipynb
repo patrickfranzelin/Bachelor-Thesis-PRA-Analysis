{
 "cells": [
  {
   "cell_type": "code",
   "execution_count": 2,
   "metadata": {},
   "outputs": [
    {
     "name": "stdout",
     "output_type": "stream",
     "text": [
      "Resampling abgeschlossen und resampled DGM gespeichert.\n"
     ]
    }
   ],
   "source": [
    "import rasterio\n",
    "from rasterio.enums import Resampling\n",
    "\n",
    "def resample_dgm(input_path, output_path, new_resolution):\n",
    "    # Öffnen Sie das Eingabe-DGM\n",
    "    with rasterio.open(input_path) as src:\n",
    "        # Berechnen Sie die neuen Dimensionen\n",
    "        new_width = int(src.width * src.transform[0] / new_resolution)\n",
    "        new_height = int(src.height * abs(src.transform[4]) / new_resolution)\n",
    "        \n",
    "        # Berechnen Sie die neue Transformationsmatrix\n",
    "        new_transform = src.transform * src.transform.scale(\n",
    "            (src.width / new_width),\n",
    "            (src.height / new_height)\n",
    "        )\n",
    "\n",
    "        # Resample das DGM\n",
    "        resampled_data = src.read(\n",
    "            out_shape=(src.count, new_height, new_width),\n",
    "            resampling=Resampling.bilinear\n",
    "        )\n",
    "\n",
    "        # Aktualisieren Sie die Metadaten\n",
    "        new_meta = src.meta.copy()\n",
    "        new_meta.update({\n",
    "            'driver': 'GTiff',\n",
    "            'height': new_height,\n",
    "            'width': new_width,\n",
    "            'transform': new_transform\n",
    "        })\n",
    "\n",
    "        # Speichern Sie das resampled DGM\n",
    "        with rasterio.open(output_path, 'w', **new_meta) as dst:\n",
    "            dst.write(resampled_data)\n",
    "\n",
    "# Pfade zum Eingabe- und Ausgabe-DGM\n",
    "input_dgm_path = r'D:\\Bachelerarbeit\\Daten\\Gis_Daten\\Passeiertal DGM\\PasseiertalDGM.tif'\n",
    "output_dgm_path = r'D:\\Bachelerarbeit\\Daten\\Gis_Daten\\Passeiertal DGM\\PasseiertalDGM_10m.tif'\n",
    "\n",
    "# Resample auf 10 Meter Auflösung\n",
    "resample_dgm(input_dgm_path, output_dgm_path, new_resolution=10)\n",
    "\n",
    "print(\"Resampling abgeschlossen und resampled DGM gespeichert.\")\n"
   ]
  },
  {
   "cell_type": "code",
   "execution_count": null,
   "metadata": {},
   "outputs": [],
   "source": []
  }
 ],
 "metadata": {
  "kernelspec": {
   "display_name": "Python 3",
   "language": "python",
   "name": "python3"
  },
  "language_info": {
   "codemirror_mode": {
    "name": "ipython",
    "version": 3
   },
   "file_extension": ".py",
   "mimetype": "text/x-python",
   "name": "python",
   "nbconvert_exporter": "python",
   "pygments_lexer": "ipython3",
   "version": "3.9.18"
  }
 },
 "nbformat": 4,
 "nbformat_minor": 2
}
